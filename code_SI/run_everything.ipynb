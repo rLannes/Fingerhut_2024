{
 "cells": [
  {
   "cell_type": "markdown",
   "id": "abba2d07",
   "metadata": {},
   "source": [
    "This notebook allows to reproduce all figure of the papers from the data\n",
    "either launch each cells in order or just copy paste the command line in a terminal wihout the \"!\""
   ]
  },
  {
   "cell_type": "markdown",
   "id": "237f249e",
   "metadata": {},
   "source": [
    "First we make helper data object.\n"
   ]
  },
  {
   "cell_type": "code",
   "execution_count": null,
   "id": "d2610c4f-9539-4cb6-b187-661ef431c6e3",
   "metadata": {
    "tags": []
   },
   "outputs": [],
   "source": [
    "\n",
    "\n",
    "\n",
    "# gtf to dict\n",
    "!/usr/bin/python3 gtf_as_dict.py --biotype ../dmelanogaster_gene_biotypes_fb_2022_05.tsv  --gtf ../dmel-all-r6.48.gtf\n",
    "# this is a data structure that is easier to work with programmatically than a gtf.\n",
    "\n",
    "\n",
    "# compute intron prop\n",
    "!/usr/bin/python3 intron_prop.py\n",
    "\n",
    "\n",
    "# dataFrame\n",
    "!/usr/bin/python3 makeDataFrame.py --deseq2_out ../allComparisons_DESeq2.csv --JUM_out ../JUM_output\n",
    "# we make a dataFrame that hold information about DE analyses and JUM\n",
    "\n",
    "# For convenience this script won't launch splitting_bam_per_strand.sh (because it need a lot of ressource and run on a clusters)\n",
    "# for each bam run \n",
    "# splitting_bam_per_strand.sh <bam>"
   ]
  },
  {
   "cell_type": "markdown",
   "id": "b32d45b4",
   "metadata": {},
   "source": [
    "Then we can make the figures"
   ]
  },
  {
   "cell_type": "code",
   "execution_count": null,
   "id": "599da0f2-83cc-4123-9ff3-0e715aa52d04",
   "metadata": {
    "tags": []
   },
   "outputs": [],
   "source": [
    "# now let reproduce the figures\n",
    "# barplot SI \n",
    "!/usr/bin/python3 barplot.py --JUM_out ../JUM_output"
   ]
  },
  {
   "cell_type": "code",
   "execution_count": null,
   "id": "852ce5db-9da1-478b-b608-739b63a53868",
   "metadata": {},
   "outputs": [],
   "source": [
    "# Figure scatter plot\n",
    "!/usr/bin/python3 scatter_plot.py"
   ]
  },
  {
   "cell_type": "code",
   "execution_count": null,
   "id": "5eedaef8-403b-4084-acca-4f3f1f896e60",
   "metadata": {
    "tags": []
   },
   "outputs": [],
   "source": [
    "# Figure intron AS DE\n",
    "!/usr/bin/python3 intron_DE.py --Normalized ../Normalized.count.csv"
   ]
  },
  {
   "cell_type": "code",
   "execution_count": null,
   "id": "d4f9c671-2d96-4487-bf32-662803af6c1c",
   "metadata": {
    "tags": []
   },
   "outputs": [],
   "source": [
    "# Figure Volcano Plot\n",
    "!/usr/bin/python3 volcanoPlot.py  --deseq2_out ../allComparisons_DESeq2.csv "
   ]
  },
  {
   "cell_type": "markdown",
   "id": "d369fdbc",
   "metadata": {},
   "source": [
    "Those last two scripts will take time to run: ~10-30 minutes each.\n"
   ]
  },
  {
   "cell_type": "code",
   "execution_count": null,
   "id": "4d885e83-711c-4728-89db-38a78ad43ae7",
   "metadata": {
    "tags": []
   },
   "outputs": [],
   "source": [
    "# Figure Coverage kl-2 kl-3\n",
    "\n",
    "#you need to merge the bam file and give them the following name:\n",
    "#\"/Control_merge_fwd_sorted.bam\",  \"/U2af38_merge_fwd_sorted.bam\", \"/SRPK_merge_fwd_sorted.bam\"\n",
    "# \"/Control_merge_rev_sorted.bam\", \"/U2af38_merge_rev_sorted.bam\", \"/SRPK_merge_rev_sorted.bam\"\n",
    "# --bamDir <directory with the splitted bam> \n",
    "!/usr/bin/python3 coverage_plot.py --bamDir ../splitted_bam/  "
   ]
  },
  {
   "cell_type": "code",
   "execution_count": null,
   "id": "5779b4da-df22-4482-b865-e147c8beead4",
   "metadata": {
    "tags": []
   },
   "outputs": [],
   "source": [
    "# Figure Last Coverage Plot\n",
    "\n",
    "#!/usr/bin/python3 coverage_over_ctl.py --bamDir <directory with the splitted bam> --Normalized ../Normalized.count.csv\n",
    "\n",
    "#example:\n",
    "!/usr/bin/python3 coverage_over_ctl.py --bamDir ../splitted_bam/ --Normalized ../Normalized.count.csv"
   ]
  },
  {
   "cell_type": "markdown",
   "id": "73f9b6e0",
   "metadata": {},
   "source": []
  },
  {
   "cell_type": "code",
   "execution_count": null,
   "id": "c9daa584",
   "metadata": {},
   "outputs": [],
   "source": []
  }
 ],
 "metadata": {
  "kernelspec": {
   "display_name": "Fingerhut2024",
   "language": "python",
   "name": "fingerhut2024"
  },
  "language_info": {
   "codemirror_mode": {
    "name": "ipython",
    "version": 3
   },
   "file_extension": ".py",
   "mimetype": "text/x-python",
   "name": "python",
   "nbconvert_exporter": "python",
   "pygments_lexer": "ipython3",
   "version": "3.9.6"
  }
 },
 "nbformat": 4,
 "nbformat_minor": 5
}
