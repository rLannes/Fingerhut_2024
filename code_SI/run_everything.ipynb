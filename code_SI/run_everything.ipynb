{
 "cells": [
  {
   "cell_type": "markdown",
   "id": "abba2d07",
   "metadata": {},
   "source": [
    "This notebook allows to reproduce all figure of the papers from the data\n",
    "either launch each cells in order or just copy paste the command line in a terminal wihout the \"!\""
   ]
  },
  {
   "cell_type": "markdown",
   "id": "237f249e",
   "metadata": {},
   "source": [
    "First we make helper data object.\n"
   ]
  },
  {
   "cell_type": "code",
   "execution_count": 1,
   "id": "d2610c4f-9539-4cb6-b187-661ef431c6e3",
   "metadata": {
    "tags": []
   },
   "outputs": [],
   "source": [
    "\n",
    "\n",
    "\n",
    "# gtf to dict\n",
    "!python3 gtf_as_dict.py --biotype ../dmelanogaster_gene_biotypes_fb_2022_05.tsv  --gtf ../dmel-all-r6.48.gtf\n",
    "# this is a data structure that is easier to work with programmatically than a gtf.\n",
    "\n",
    "\n",
    "# compute intron prop\n",
    "!python3 intron_prop.py\n",
    "\n",
    "\n",
    "# dataFrame\n",
    "!python3 makeDataFrame.py --deseq2_out ../allComparisons_DESeq2.csv --JUM_out ../JUM_output\n",
    "# we make a dataFrame that hold information about DE analyses and JUM\n",
    "\n",
    "# For convenience this script won't launch splitting_bam_per_strand.sh (because it need a lot of ressource and run on a clusters)\n",
    "# for each bam run \n",
    "# splitting_bam_per_strand.sh <bam>"
   ]
  },
  {
   "cell_type": "markdown",
   "id": "b32d45b4",
   "metadata": {},
   "source": [
    "Then we can make the figures"
   ]
  },
  {
   "cell_type": "code",
   "execution_count": 12,
   "id": "599da0f2-83cc-4123-9ff3-0e715aa52d04",
   "metadata": {
    "tags": []
   },
   "outputs": [
    {
     "name": "stdout",
     "output_type": "stream",
     "text": [
      "1723\n",
      "6878\n",
      "SRPK_vs_control 1420\n",
      "U2af38_vs_control 4569\n"
     ]
    }
   ],
   "source": [
    "# now let reproduce the figures\n",
    "# barplot SI \n",
    "!python3 barplot.py --JUM_out ../JUM_output"
   ]
  },
  {
   "cell_type": "code",
   "execution_count": 13,
   "id": "852ce5db-9da1-478b-b608-739b63a53868",
   "metadata": {},
   "outputs": [],
   "source": [
    "# Figure scatter plot\n",
    "!python3 scatter_plot.py"
   ]
  },
  {
   "cell_type": "code",
   "execution_count": 6,
   "id": "5eedaef8-403b-4084-acca-4f3f1f896e60",
   "metadata": {
    "tags": []
   },
   "outputs": [
    {
     "name": "stdout",
     "output_type": "stream",
     "text": [
      "Figure(640x480)\n",
      "Traceback (most recent call last):\n",
      "  File \"intron_DE.py\", line 143, in <module>\n",
      "    res = permutation_test((large_Y, val_avg_gene), statistic, vectorized=True,\n",
      "  File \"/home/rlannes/.local/lib/python3.8/site-packages/scipy/stats/_resampling.py\", line 1560, in permutation_test\n",
      "    observed = statistic(*data, axis=-1)\n",
      "  File \"intron_DE.py\", line 16, in statistic\n",
      "    return np.mean(x, axis=axis) - np.mean(y, axis=axis)\n",
      "NameError: name 'np' is not defined\n"
     ]
    }
   ],
   "source": [
    "# Figure intron AS DE\n",
    "!python3 intron_DE.py --Normalized ../Normalized.count.csv"
   ]
  },
  {
   "cell_type": "code",
   "execution_count": 14,
   "id": "d4f9c671-2d96-4487-bf32-662803af6c1c",
   "metadata": {
    "tags": []
   },
   "outputs": [
    {
     "name": "stdout",
     "output_type": "stream",
     "text": [
      "0.0\n",
      "4.82e-197\n",
      "4.82e-197\n",
      "volcanoPlot.py:58: FutureWarning: Calling float on a single element Series is deprecated and will raise a TypeError in the future. Use float(ser.iloc[0]) instead\n",
      "  ax.scatter(x = rnai[\"log2(SRPK/Control)\"], y = -math.log10(rnai[\"padj.2\"]),\n",
      "volcanoPlot.py:61: FutureWarning: Calling float on a single element Series is deprecated and will raise a TypeError in the future. Use float(ser.iloc[0]) instead\n",
      "  ax.text(rnai[\"log2(SRPK/Control)\"]+0.2, -math.log10(rnai[\"padj.2\"])+5, rnai_[0], zorder=15, fontsize=20)\n",
      "/home/rlannes/.local/lib/python3.8/site-packages/matplotlib/text.py:757: FutureWarning: Calling float on a single element Series is deprecated and will raise a TypeError in the future. Use float(ser.iloc[0]) instead\n",
      "  posx = float(self.convert_xunits(self._x))\n",
      "/home/rlannes/.local/lib/python3.8/site-packages/matplotlib/text.py:757: FutureWarning: Calling float on a single element Series is deprecated and will raise a TypeError in the future. Use float(ser.iloc[0]) instead\n",
      "  posx = float(self.convert_xunits(self._x))\n",
      "Figure(1200x750)\n",
      "volcanoPlot.py:139: FutureWarning: Calling float on a single element Series is deprecated and will raise a TypeError in the future. Use float(ser.iloc[0]) instead\n",
      "  ax.scatter(x = rnai[\"log2(U2af38/Control)\"], y = -math.log10(rnai[\"padj.3\"]),\n",
      "volcanoPlot.py:142: FutureWarning: Calling float on a single element Series is deprecated and will raise a TypeError in the future. Use float(ser.iloc[0]) instead\n",
      "  ax.text(rnai[\"log2(U2af38/Control)\"]+0.2, -math.log10(rnai[\"padj.3\"])+5,\n",
      "/home/rlannes/.local/lib/python3.8/site-packages/matplotlib/text.py:757: FutureWarning: Calling float on a single element Series is deprecated and will raise a TypeError in the future. Use float(ser.iloc[0]) instead\n",
      "  posx = float(self.convert_xunits(self._x))\n",
      "/home/rlannes/.local/lib/python3.8/site-packages/matplotlib/text.py:757: FutureWarning: Calling float on a single element Series is deprecated and will raise a TypeError in the future. Use float(ser.iloc[0]) instead\n",
      "  posx = float(self.convert_xunits(self._x))\n",
      "Figure(1200x750)\n"
     ]
    }
   ],
   "source": [
    "# Figure Volcano Plot\n",
    "!python3 volcanoPlot.py  --deseq2_out ../allComparisons_DESeq2.csv "
   ]
  },
  {
   "cell_type": "markdown",
   "id": "d369fdbc",
   "metadata": {},
   "source": [
    "Those last two scripts will take time to run: ~10-30 minutes each.\n"
   ]
  },
  {
   "cell_type": "code",
   "execution_count": 3,
   "id": "4d885e83-711c-4728-89db-38a78ad43ae7",
   "metadata": {
    "tags": []
   },
   "outputs": [
    {
     "name": "stdout",
     "output_type": "stream",
     "text": [
      "kl-3\n",
      "Control exon: 0, start depth : (336381, 1) end depth: (336382, 3)\n",
      "Control exon: 1, start depth : (350631, 2040) end depth: (350632, 2045)\n",
      "Control exon: 2, start depth : (350791, 1852) end depth: (350792, 1848)\n",
      "Control exon: 3, start depth : (356355, 1980) end depth: (356356, 1988)\n",
      "Control exon: 4, start depth : (356584, 1917) end depth: (356585, 1936)\n",
      "Control exon: 5, start depth : (477249, 447) end depth: (477250, 448)\n",
      "Control exon: 6, start depth : (477513, 505) end depth: (477514, 498)\n",
      "Control exon: 7, start depth : (488093, 569) end depth: (488094, 573)\n",
      "Control exon: 8, start depth : (488276, 571) end depth: (488277, 576)\n",
      "Control exon: 9, start depth : (490552, 612) end depth: (490553, 607)\n",
      "Control exon: 10, start depth : (499006, 418) end depth: (499007, 423)\n",
      "Control exon: 11, start depth : (538923, 439) end depth: (538924, 440)\n",
      "Control exon: 12, start depth : (540006, 428) end depth: (540007, 433)\n",
      "Control exon: 13, start depth : (558087, 506) end depth: (558088, 508)\n",
      "Control exon: 14, start depth : (561018, 395) end depth: (561019, 405)\n",
      "Control exon: 15, start depth : (562494, 409) end depth: (562495, 424)\n",
      "U2af38 exon: 0, start depth : (336381, 0) end depth: (336382, 0)\n",
      "U2af38 exon: 1, start depth : (350631, 704) end depth: (350632, 706)\n",
      "U2af38 exon: 2, start depth : (350791, 795) end depth: (350792, 782)\n",
      "U2af38 exon: 3, start depth : (356355, 463) end depth: (356356, 471)\n",
      "U2af38 exon: 4, start depth : (356584, 607) end depth: (356585, 607)\n",
      "U2af38 exon: 5, start depth : (477249, 74) end depth: (477250, 74)\n",
      "U2af38 exon: 6, start depth : (477513, 89) end depth: (477514, 88)\n",
      "U2af38 exon: 7, start depth : (488093, 50) end depth: (488094, 50)\n",
      "U2af38 exon: 8, start depth : (488276, 79) end depth: (488277, 81)\n",
      "U2af38 exon: 9, start depth : (490552, 202) end depth: (490553, 204)\n",
      "U2af38 exon: 10, start depth : (499006, 56) end depth: (499007, 57)\n",
      "U2af38 exon: 11, start depth : (538923, 78) end depth: (538924, 74)\n",
      "U2af38 exon: 12, start depth : (540006, 96) end depth: (540007, 96)\n",
      "U2af38 exon: 13, start depth : (558087, 20) end depth: (558088, 21)\n",
      "U2af38 exon: 14, start depth : (561018, 70) end depth: (561019, 71)\n",
      "U2af38 exon: 15, start depth : (562494, 14) end depth: (562495, 16)\n",
      "SRPK exon: 0, start depth : (336381, 0) end depth: (336382, 0)\n",
      "SRPK exon: 1, start depth : (350631, 1464) end depth: (350632, 1466)\n",
      "SRPK exon: 2, start depth : (350791, 1349) end depth: (350792, 1340)\n",
      "SRPK exon: 3, start depth : (356355, 1601) end depth: (356356, 1622)\n",
      "SRPK exon: 4, start depth : (356584, 1658) end depth: (356585, 1684)\n",
      "SRPK exon: 5, start depth : (477249, 203) end depth: (477250, 200)\n",
      "SRPK exon: 6, start depth : (477513, 224) end depth: (477514, 224)\n",
      "SRPK exon: 7, start depth : (488093, 292) end depth: (488094, 292)\n",
      "SRPK exon: 8, start depth : (488276, 296) end depth: (488277, 299)\n",
      "SRPK exon: 9, start depth : (490552, 324) end depth: (490553, 314)\n",
      "SRPK exon: 10, start depth : (499006, 183) end depth: (499007, 185)\n",
      "SRPK exon: 11, start depth : (538923, 217) end depth: (538924, 217)\n",
      "SRPK exon: 12, start depth : (540006, 151) end depth: (540007, 153)\n",
      "SRPK exon: 13, start depth : (558087, 115) end depth: (558088, 117)\n",
      "SRPK exon: 14, start depth : (561018, 132) end depth: (561019, 138)\n",
      "SRPK exon: 15, start depth : (562494, 102) end depth: (562495, 104)\n",
      "kl-2\n",
      "Control exon: 0, start depth : (573088, 355) end depth: (573089, 366)\n",
      "Control exon: 1, start depth : (596989, 559) end depth: (596990, 560)\n",
      "Control exon: 2, start depth : (637850, 309) end depth: (637851, 310)\n",
      "Control exon: 3, start depth : (638586, 274) end depth: (638587, 274)\n",
      "Control exon: 4, start depth : (651215, 341) end depth: (651216, 350)\n",
      "Control exon: 5, start depth : (654406, 316) end depth: (654407, 311)\n",
      "Control exon: 6, start depth : (656129, 309) end depth: (656130, 310)\n",
      "Control exon: 7, start depth : (657765, 360) end depth: (657766, 363)\n",
      "Control exon: 8, start depth : (661909, 372) end depth: (661910, 368)\n",
      "Control exon: 9, start depth : (662067, 330) end depth: (662068, 332)\n",
      "Control exon: 10, start depth : (663069, 347) end depth: (663070, 350)\n",
      "Control exon: 11, start depth : (663620, 301) end depth: (663621, 296)\n",
      "U2af38 exon: 0, start depth : (573088, 183) end depth: (573089, 186)\n",
      "U2af38 exon: 1, start depth : (596989, 204) end depth: (596990, 196)\n",
      "U2af38 exon: 2, start depth : (637850, 22) end depth: (637851, 22)\n",
      "U2af38 exon: 3, start depth : (638586, 22) end depth: (638587, 22)\n",
      "U2af38 exon: 4, start depth : (651215, 97) end depth: (651216, 96)\n",
      "U2af38 exon: 5, start depth : (654406, 94) end depth: (654407, 93)\n",
      "U2af38 exon: 6, start depth : (656129, 82) end depth: (656130, 82)\n",
      "U2af38 exon: 7, start depth : (657765, 82) end depth: (657766, 84)\n",
      "U2af38 exon: 8, start depth : (661909, 99) end depth: (661910, 99)\n",
      "U2af38 exon: 9, start depth : (662067, 93) end depth: (662068, 95)\n",
      "U2af38 exon: 10, start depth : (663069, 65) end depth: (663070, 67)\n",
      "U2af38 exon: 11, start depth : (663620, 38) end depth: (663621, 40)\n",
      "SRPK exon: 0, start depth : (573088, 253) end depth: (573089, 260)\n",
      "SRPK exon: 1, start depth : (596989, 98) end depth: (596990, 97)\n",
      "SRPK exon: 2, start depth : (637850, 46) end depth: (637851, 46)\n",
      "SRPK exon: 3, start depth : (638586, 41) end depth: (638587, 41)\n",
      "SRPK exon: 4, start depth : (651215, 55) end depth: (651216, 55)\n",
      "SRPK exon: 5, start depth : (654406, 60) end depth: (654407, 60)\n",
      "SRPK exon: 6, start depth : (656129, 43) end depth: (656130, 43)\n",
      "SRPK exon: 7, start depth : (657765, 48) end depth: (657766, 47)\n",
      "SRPK exon: 8, start depth : (661909, 33) end depth: (661910, 33)\n",
      "SRPK exon: 9, start depth : (662067, 46) end depth: (662068, 47)\n",
      "SRPK exon: 10, start depth : (663069, 44) end depth: (663070, 46)\n",
      "SRPK exon: 11, start depth : (663620, 40) end depth: (663621, 40)\n"
     ]
    }
   ],
   "source": [
    "# Figure Coverage kl-2 kl-3\n",
    "!python3 coverage_over_ctl.py --bamDir <directory with the splitted bam> --Normalized ../Normalized.count.csv\n",
    "#example:\n",
    "#!python3 coverage_plot.py --bamDir ../splitted_bam/  "
   ]
  },
  {
   "cell_type": "code",
   "execution_count": 8,
   "id": "5779b4da-df22-4482-b865-e147c8beead4",
   "metadata": {
    "tags": []
   },
   "outputs": [
    {
     "name": "stdout",
     "output_type": "stream",
     "text": [
      "{'Control': 16.059473, 'SRPK': 17.2674512, 'U2af38': 14.723936}\n",
      "\n",
      "FBgn0283741\n",
      "[{'chr': 'X', 'start': 1842628, 'end': 1842883, 'strand': '+'}, {'chr': 'X', 'start': 1843445, 'end': 1843578, 'strand': '+'}, {'chr': 'X', 'start': 1843692, 'end': 1844087, 'strand': '+'}, {'chr': 'X', 'start': 1850620, 'end': 1852933, 'strand': '+'}]\n",
      "[E::hts_open_format] Failed to open file \"../bam_split_strand/Control_merge_fwd_sorted.bam\" : No such file or directory\n",
      "Traceback (most recent call last):\n",
      "  File \"coverage_over_ctl.py\", line 396, in <module>\n",
      "    dico_slope[\"U2af38\"][\"large\"] =  plot_coverage(jackie_list, bam_dico=dico_bam, genotype=\"U2af38\",\n",
      "  File \"coverage_over_ctl.py\", line 229, in plot_coverage\n",
      "    exon_cov = get_cover(bam=bam_dico[strand][\"ctl\"], chr=\"chr\"+dico_gtf[gene][\"chr\"],\n",
      "  File \"coverage_over_ctl.py\", line 119, in get_cover\n",
      "    with pysam.AlignmentFile(bam, \"rb\") as bamfile:\n",
      "  File \"pysam/libcalignmentfile.pyx\", line 747, in pysam.libcalignmentfile.AlignmentFile.__cinit__\n",
      "  File \"pysam/libcalignmentfile.pyx\", line 946, in pysam.libcalignmentfile.AlignmentFile._open\n",
      "FileNotFoundError: [Errno 2] could not open alignment file `../bam_split_strand/Control_merge_fwd_sorted.bam`: No such file or directory\n"
     ]
    }
   ],
   "source": [
    "# Figure Last Coverage Plot\n",
    "\n",
    "!python3 coverage_over_ctl.py --bamDir <directory with the splitted bam> --Normalized ../Normalized.count.csv\n",
    "\n",
    "#example:\n",
    "#!python3 coverage_over_ctl.py --bamDir ../splitted_bam/ --Normalized ../Normalized.count.csv"
   ]
  },
  {
   "cell_type": "markdown",
   "id": "73f9b6e0",
   "metadata": {},
   "source": []
  }
 ],
 "metadata": {
  "kernelspec": {
   "display_name": "Python 3 (ipykernel)",
   "language": "python",
   "name": "python3"
  },
  "language_info": {
   "codemirror_mode": {
    "name": "ipython",
    "version": 3
   },
   "file_extension": ".py",
   "mimetype": "text/x-python",
   "name": "python",
   "nbconvert_exporter": "python",
   "pygments_lexer": "ipython3",
   "version": "3.8.10"
  }
 },
 "nbformat": 4,
 "nbformat_minor": 5
}
